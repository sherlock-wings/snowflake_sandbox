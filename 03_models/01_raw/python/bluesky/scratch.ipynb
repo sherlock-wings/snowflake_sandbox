{
 "cells": [
  {
   "cell_type": "code",
   "execution_count": 1,
   "id": "d854849c",
   "metadata": {},
   "outputs": [
    {
     "name": "stdout",
     "output_type": "stream",
     "text": [
      "New BlueSky feed-extract session opened at 2025-04-10 11:52:54 EDT\n",
      "Logging in as BlueSky User thehippus.bsky.social... \n",
      "LET'S GET THIS DATA! ( ͡⌐■ ͜ʖ ͡-■)\n",
      "\n",
      "\n",
      "\n",
      "\n",
      "WARNING! WARNING! WARNING!\n",
      "\n",
      "Zero CSV files found in Azure Blob directory bluesky_posts/, container sfsandbox\n",
      "This means incremental ingestion will not be applied. If that is unexpected, then this run may be ingesting duplicate records.\n",
      "If you don't want that, cancel this ingestion now with CTRL+C!\n",
      "\n",
      "Detected 88 BlueSky Users being followed by user @thehippus.bsky.social\n",
      "Parsing posts...\n",
      "\n",
      "\n",
      "000 of 088 | Parsing posts from user @bitnerd.gvg.io...\n",
      "Ingesting 39 pages of post-data from user @bitnerd.gvg.io...\r"
     ]
    }
   ],
   "source": [
    "import extract_feed as e\n",
    "\n",
    "cli, session_usr = e.bluesky_login()\n",
    "\n",
    "# to collect information from bluesky, you need a bluesky client. \n",
    "# to do that, you need to create a user (with a name, etc) to log into bluesky. the bluesky client session is then tied to this specific user\n",
    "# for completeness, information on the specific user we are logging in as should also be collected\n",
    "cli_did = e.get_did(cli, session_usr)\n",
    "resp = cli.get_profile(actor=cli_did)\n",
    "cli_username = session_usr\n",
    "cli_displayname = resp.display_name\n",
    "cli_account_created_at = resp.created_at\n",
    "cli_deets = f\"{cli_did}|{cli_username}|{cli_displayname}|{cli_account_created_at}\"\n",
    "\n",
    "# before parsing begins, write a control table locally\n",
    "# this should prevent records already saved in Azure from being ingested again\n",
    "print(f\"New BlueSky feed-extract session opened at {e.datetime.now(e.pytz.timezone(\"America/New_York\")).strftime('%Y-%m-%d %H:%M:%S %Z')}\")\n",
    "print(f\"Logging in as BlueSky User {e.USR}... \\nLET'S GET THIS DATA! ( ͡⌐■ ͜ʖ ͡-■)\\n\\n\")\n",
    "watermark_tbl_written = e.write_watermark_table()\n",
    "if watermark_tbl_written:\n",
    "    watermark_tbl = e.pd.read_csv(f\"{e.WTM_TBL_DIR}/extract_feed_control_tbl.csv\").to_dict(orient='list')\n",
    "else:\n",
    "    watermark_tbl = None\n",
    "\n",
    "following_users = {item.handle: [item.did, item.display_name] for item in e.get_following_users(cli, session_usr)}\n",
    "print(f\"Detected {len(following_users):,} BlueSky Users being followed by user @{session_usr}\")\n",
    "print(f\"Parsing posts...\")\n",
    "df = None\n",
    "c = 0\n",
    "usr = 'bitnerd.gvg.io'\n",
    "print(f\"\\n\\n{str(c).zfill(3)} of {str(len(following_users)).zfill(3)} | Parsing posts from user @{usr}...\")\n",
    "# accumulate data across the feeds of many users\n",
    "# stash_user_posts() will save CSV data should it hit the 100 mb threshold mid-ingestion for a single user\n",
    "df = e.stash_user_posts(cli_deets, schema_input=e.SCHEMA, bsky_client=cli, bsky_did=following_users[usr][0], bsky_username=usr, wtm_tbl=watermark_tbl)"
   ]
  },
  {
   "cell_type": "code",
   "execution_count": 3,
   "id": "aaeed68c",
   "metadata": {},
   "outputs": [
    {
     "data": {
      "text/plain": [
       "'1,920'"
      ]
     },
     "execution_count": 3,
     "metadata": {},
     "output_type": "execute_result"
    }
   ],
   "source": [
    "f\"{len(df.index):,}\""
   ]
  }
 ],
 "metadata": {
  "kernelspec": {
   "display_name": "base",
   "language": "python",
   "name": "python3"
  },
  "language_info": {
   "codemirror_mode": {
    "name": "ipython",
    "version": 3
   },
   "file_extension": ".py",
   "mimetype": "text/x-python",
   "name": "python",
   "nbconvert_exporter": "python",
   "pygments_lexer": "ipython3",
   "version": "3.12.9"
  }
 },
 "nbformat": 4,
 "nbformat_minor": 5
}
