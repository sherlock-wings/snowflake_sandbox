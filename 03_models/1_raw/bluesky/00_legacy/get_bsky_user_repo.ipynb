{
 "cells": [
  {
   "cell_type": "code",
   "execution_count": null,
   "metadata": {},
   "outputs": [
    {
     "name": "stdout",
     "output_type": "stream",
     "text": [
      "id='did:plc:pk3ngv5kofsjoet7gs4o2o7f' also_known_as=['at://arbyswaifu.bsky.social'] verification_method=[VerificationMethod(id='did:plc:pk3ngv5kofsjoet7gs4o2o7f#atproto', type='Multikey', controller='did:plc:pk3ngv5kofsjoet7gs4o2o7f', public_key_multibase='zQ3shrDxx4gBiUgyky5raQMGk3eCSXnqw6rkgKJwH7dRtzvnw')] service=[Service(id='#atproto_pds', type='AtprotoPersonalDataServer', service_endpoint='https://fuzzyfoot.us-west.host.bsky.network')]\n"
     ]
    }
   ],
   "source": [
    "import os\n",
    "\n",
    "from atproto import Client, IdResolver, models\n",
    "from atproto_core.car import CAR\n",
    "\n",
    "HANDLE_TO_DOWNLOAD = 'politico.com'\n",
    "\n",
    "resolver = IdResolver()\n",
    "did = resolver.handle.resolve(HANDLE_TO_DOWNLOAD)\n",
    "did_doc = resolver.did.resolve(did)\n",
    "\n",
    "client = Client(base_url=did_doc.get_pds_endpoint())  # switch to the user's PDS endpoint\n",
    "client.login(os.environ['BSY_USR'], os.environ['BSY_KEY'])\n",
    "\n",
    "car_bytes = client.com.atproto.sync.get_repo(models.ComAtprotoSyncGetRepo.Params(did=did))\n",
    "\n",
    "with open(f'repo_{did}.car', 'wb') as f:\n",
    "    f.write(car_bytes)\n",
    "\n",
    "print(f'Repo downloaded to repo_{did}.car')"
   ]
  }
 ],
 "metadata": {
  "kernelspec": {
   "display_name": "base",
   "language": "python",
   "name": "python3"
  },
  "language_info": {
   "codemirror_mode": {
    "name": "ipython",
    "version": 3
   },
   "file_extension": ".py",
   "mimetype": "text/x-python",
   "name": "python",
   "nbconvert_exporter": "python",
   "pygments_lexer": "ipython3",
   "version": "3.12.9"
  }
 },
 "nbformat": 4,
 "nbformat_minor": 2
}
