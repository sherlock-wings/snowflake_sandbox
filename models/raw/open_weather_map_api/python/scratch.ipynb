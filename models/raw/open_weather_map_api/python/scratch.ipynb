{
 "cells": [
  {
   "cell_type": "code",
   "execution_count": 79,
   "metadata": {},
   "outputs": [
    {
     "name": "stdout",
     "output_type": "stream",
     "text": [
      "{'lat': 40.7127, 'lon': -74.006, 'timezone': 'America/New_York', 'timezone_offset': -18000, 'data': [{'dt': 315550800, 'sunrise': 315577200, 'sunset': 315610724, 'temp': 29.3, 'feels_like': 25.3, 'pressure': 1014, 'humidity': 82, 'dew_point': 25.05, 'clouds': 0, 'wind_speed': 3.71, 'wind_deg': 354, 'weather': [{'id': 800, 'main': 'Clear', 'description': 'clear sky', 'icon': '01n'}]}]}\n"
     ]
    }
   ],
   "source": [
    "from datetime import datetime as dt\n",
    "import os\n",
    "import requests\n",
    "import pandas as pd\n",
    "\n",
    "data = pd.read_csv('locations/coordinates_by_city.csv')\n",
    "\n",
    "curw_key = os.getenv(\"curw\")\n",
    "if not curw_key:\n",
    "    raise ValueError(\"The Current Weather API Key for the OpenWeatherMap API is not set in your Environment Variables.\")\n",
    "\n",
    "\n",
    "src = pd.read_csv('locations/coordinates_by_city.csv')\n",
    "city = 'New York City'\n",
    "lat = src.query(f'city_name == \"{city}\"')['latitude'][0]\n",
    "lon = src.query(f'city_name == \"{city}\"')['longitude'][0]\n",
    "\n",
    "# current_weather_url   = f'https://api.openweathermap.org/data/3.0/onecall?lat={lat}&lon={lon}&appid={curw_key}&units=imperial'\n",
    "ts_url_template = f'https://api.openweathermap.org/data/3.0/onecall/timemachine?lat={lat}&lon={lon}&dt={1577887205}&appid={curw_key}&units=imperial'\n",
    "tgt_ls = src['city_name'].values\n",
    "src.query(f\"city_name == 'Los Angeles'\")['latitude'].values[0]\n",
    "earliest_timestamp = str(int(dt(1980, 1, 1, 00, 00, 00).timestamp()))\n",
    "\n",
    "for city in tgt_ls:\n",
    "    try:\n",
    "        lat = src.query(f\"city_name == '{city}'\")['latitude'].values[0]\n",
    "        lon = src.query(f\"city_name == '{city}'\")['longitude'].values[0]\n",
    "    except KeyError:\n",
    "        print(f\"Key error occurred at city `{city}`. Program terminated.\")\n",
    "        break \n",
    "    request_url = f'https://api.openweathermap.org/data/3.0/onecall/timemachine?lat={lat}&lon={lon}&dt={earliest_timestamp}&appid={curw_key}&units=imperial'\n",
    "    res = requests.get(url = request_url)\n",
    "    print(res.json())\n",
    "    break"
   ]
  },
  {
   "cell_type": "code",
   "execution_count": 70,
   "metadata": {},
   "outputs": [
    {
     "name": "stdout",
     "output_type": "stream",
     "text": [
      "The Unix Epoch Equivalent to the timestamp 1979-01-01 00:00:00 is 284014800.0\n"
     ]
    }
   ],
   "source": [
    "from datetime import datetime as dt\n",
    "\n",
    "earliest_timestamp = dt(1979, 1, 1, 00, 00, 00)\n",
    "\n",
    "formatted_string = earliest_timestamp.strftime(\"%Y-%m-%d %H:%M:%S\")\n",
    "print(f\"The Unix Epoch Equivalent to the timestamp {earliest_timestamp} is \"+str(earliest_timestamp.timestamp()))\n",
    "\n",
    "# from datetime import datetime\n",
    "\n",
    "# # Create a datetime object\n",
    "# dt = datetime(2025, 3, 5, 12, 0, 0)\n",
    "\n",
    "# # Convert to Unix timestamp\n",
    "# unix_timestamp = dt.timestamp()\n",
    "\n",
    "# print(unix_timestamp)\n"
   ]
  }
 ],
 "metadata": {
  "kernelspec": {
   "display_name": "Python 3",
   "language": "python",
   "name": "python3"
  },
  "language_info": {
   "codemirror_mode": {
    "name": "ipython",
    "version": 3
   },
   "file_extension": ".py",
   "mimetype": "text/x-python",
   "name": "python",
   "nbconvert_exporter": "python",
   "pygments_lexer": "ipython3",
   "version": "3.12.2"
  }
 },
 "nbformat": 4,
 "nbformat_minor": 2
}
