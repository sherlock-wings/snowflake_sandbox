{
 "cells": [
  {
   "cell_type": "code",
   "execution_count": 4,
   "metadata": {},
   "outputs": [],
   "source": [
    "import ast\n",
    "import pandas as pd\n",
    "\n",
    "data = pd.read_csv('python/locations/coordinates/geo_api_lat_long_output.csv')\n",
    "json_ls = [ast.literal_eval(item)[0] if item!= '[]' else None for item in data['api_json_respnose'].values]\n",
    "\n",
    "lats = [json_item['lat'] if isinstance(json_item, dict) else None for json_item in json_ls]\n",
    "data['latitude'] = lats\n",
    "\n",
    "longs = [json_item['lon'] if isinstance(json_item, dict) else None for json_item in json_ls]\n",
    "data['longitude'] = longs\n",
    "\n",
    "nations = [json_item['country'] if isinstance(json_item, dict) else None for json_item in json_ls]\n",
    "data['iso_2_letter_country_code'] = nations\n",
    "\n",
    "data = pd.merge(data, pd.read_csv('python/locations/names/iso_country_codes.csv'), left_on='iso_2_letter_country_code', right_on='iso_2_letter_code')\n",
    "data = data[['city_name_input', 'latitude', 'longitude', 'country_name', 'iso_2_letter_country_code']]\n",
    "data.to_csv('coordinates_by_city.csv', index=False)\n",
    "\n",
    "# data.join(pd.read_csv('python/locations/names/iso_country_codes.csv'))\n",
    "# data\n",
    "# for i in range(len(json_ls)):\n",
    "#     try:\n",
    "#         print(json_ls[i][0])\n",
    "#     except IndexError:\n",
    "#         print(\"Could not access zeroth index for this item: `\" + str(json_ls[i]) + \"`, occurring at index \" +str(i))\n",
    "#         break"
   ]
  }
 ],
 "metadata": {
  "kernelspec": {
   "display_name": "Python 3",
   "language": "python",
   "name": "python3"
  },
  "language_info": {
   "codemirror_mode": {
    "name": "ipython",
    "version": 3
   },
   "file_extension": ".py",
   "mimetype": "text/x-python",
   "name": "python",
   "nbconvert_exporter": "python",
   "pygments_lexer": "ipython3",
   "version": "3.12.2"
  }
 },
 "nbformat": 4,
 "nbformat_minor": 2
}
